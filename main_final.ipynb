{
 "cells": [
  {
   "cell_type": "markdown",
   "metadata": {},
   "source": [
    "Installs"
   ]
  },
  {
   "cell_type": "code",
   "execution_count": null,
   "metadata": {},
   "outputs": [],
   "source": [
    "%pip install opendatasets\n",
    "%pip install pandas\n",
    "%pip install scikit-learn\n",
    "%pip install matplotlib\n",
    "%matplotlib inline"
   ]
  },
  {
   "cell_type": "markdown",
   "metadata": {},
   "source": [
    "Imports"
   ]
  },
  {
   "cell_type": "code",
   "execution_count": 45,
   "metadata": {},
   "outputs": [],
   "source": [
    "import pandas as pd\n",
    "import os\n",
    "import gc\n",
    "import numpy as np\n",
    "import opendatasets as od \n",
    "import random\n",
    "from typing import List\n",
    "from sklearn.neighbors import KDTree\n",
    "from sklearn.decomposition import PCA"
   ]
  },
  {
   "cell_type": "markdown",
   "metadata": {},
   "source": [
    "Model 1"
   ]
  },
  {
   "cell_type": "code",
   "execution_count": 46,
   "metadata": {},
   "outputs": [],
   "source": [
    "class Model_1:\n",
    "    def __init__(self, game_stats: pd.DataFrame, user_data: pd.DataFrame) -> None:\n",
    "        self.game_stats = game_stats\n",
    "        self.user_data = user_data\n",
    "        \n",
    "    def predict(self, user_id: int) -> List[str]:    \n",
    "        self.game_stats.rename(columns={'AppID': 'game_id','Name':'game_name','Average playtime forever':'hours_played', 'Release date': \"release_date\"}, inplace=True)\n",
    "        self.game_stats = self.game_stats.drop(self.game_stats[self.game_stats['Positive'] == 0].index)\n",
    "        self.game_stats = self.game_stats.sort_values(by=['ranking','hours_played', 'release_date'], ascending=[False, False, False])\n",
    "        game_stats2 = self.game_stats[['game_id', 'game_name']]\n",
    "        hund_recs = game_stats2.head(100)\n",
    "        rand_ten = hund_recs.sample(n=50)\n",
    "        \n",
    "        user_games = self.user_data.loc[user_id].reset_index().set_index('Game').drop('level_0', axis='columns').rename(columns={user_id: 'Quantity'})\n",
    "        user_games = list(user_games[user_games['Quantity'] != 0.0].index)\n",
    "        \n",
    "        recommendations = []\n",
    "        i = 0\n",
    "        while len(recommendations) < 20:\n",
    "            game_name = rand_ten.iloc[i].game_name\n",
    "            if game_name not in user_games:\n",
    "                recommendations.append(game_name)            \n",
    "            i += 1\n",
    "        \n",
    "        return recommendations"
   ]
  },
  {
   "cell_type": "code",
   "execution_count": 60,
   "metadata": {},
   "outputs": [],
   "source": [
    "class Model_2:\n",
    "    def __init__(self, game_stats: pd.DataFrame, user_data: pd.DataFrame) -> None:\n",
    "        self.game_stats = game_stats\n",
    "        self.user_data = user_data\n",
    "\n",
    "    def predict(self, user_id: int) -> List[str]: \n",
    "        self.game_stats.rename(columns={'AppID': 'game_id','Name':'game_name','Average playtime forever':'hours_played', 'Release date': \"release_date\", 'Genres': \"genre\"}, inplace=True)\n",
    "        self.game_stats = self.game_stats.drop(self.game_stats[self.game_stats['Positive'] == 0].index)\n",
    "        self.game_stats = self.game_stats.sort_values(by=['genre_counts','hours_played', 'release_date'], ascending=[False, False, False])"
   ]
  },
  {
   "cell_type": "markdown",
   "metadata": {},
   "source": [
    "Model 3"
   ]
  },
  {
   "cell_type": "code",
   "execution_count": 47,
   "metadata": {},
   "outputs": [],
   "source": [
    "class Model_3:\n",
    "    def __init__(self, user_data: pd.DataFrame) -> None:\n",
    "        self.user_data = user_data\n",
    "        self.pca = PCA(n_components=200)\n",
    "        self.pca_data = self.pca.fit_transform(user_data.values)\n",
    "        self.tree = KDTree(self.pca_data)\n",
    "\n",
    "    def predict(self, user_id: int) -> List[str]:\n",
    "        # Find neighbors\n",
    "        N_NEIGHBORS = 100\n",
    "        user_index = self.user_data.index.get_loc(user_id)\n",
    "        neighbors = self.tree.query(self.pca_data[user_index:user_index+1], k=N_NEIGHBORS, return_distance=False)[0]\n",
    "        combined_neighbors = self.user_data.iloc[neighbors].sum().T.sort_values(ascending=False).reset_index().set_index('Game').drop('level_0', axis='columns').rename(columns={0: 'Quantity'})\n",
    "\n",
    "        # Get list of user's currently owned games\n",
    "        user_games = self.user_data.loc[user_id].reset_index().set_index('Game').drop('level_0', axis='columns').rename(columns={user_id: 'Quantity'})\n",
    "        user_games = list(user_games[user_games['Quantity'] != 0.0].index)\n",
    "        \n",
    "        # Build recommendation list\n",
    "        recommendations = []\n",
    "        i = 0\n",
    "        while len(recommendations) < 20:\n",
    "            game_name = combined_neighbors.iloc[i].name\n",
    "            if game_name not in user_games:\n",
    "                recommendations.append(game_name)\n",
    "            i += 1\n",
    "            \n",
    "            # Break if out of relevant games\n",
    "            if combined_neighbors.iloc[i].Quantity == 0.0:\n",
    "                break\n",
    "\n",
    "        return recommendations"
   ]
  },
  {
   "cell_type": "code",
   "execution_count": 56,
   "metadata": {},
   "outputs": [],
   "source": [
    "class Testing:\n",
    "    def __init__(self, selection: str, k: int) -> None:  \n",
    "        self.NUMBER_OF_RECOMMENDATIONS = 20\n",
    "        self.USE_MODEL_1 = 15\n",
    "        self.USE_MODEL_2 = 20\n",
    "                \n",
    "        # Transform Game Data\n",
    "        game_stats = pd.read_csv('steam-games-dataset/games.csv', encoding='ISO-8859-1', usecols = [0, 1, 2, 22, 23, 28]) \n",
    "        tot_pos_reviews = (game_stats['Positive'].sum())\n",
    "        game_stats['ranking'] = np.sqrt(game_stats['Positive']/tot_pos_reviews) * 100.0\n",
    "        self.game_stats = game_stats\n",
    "        \n",
    "        # Transform User Data\n",
    "        user_data = pd.read_csv('steam-video-games/steam-200k.csv', encoding='ISO-8859-1', usecols=[0, 1, 2, 3], names=['UserID', 'Game', 'Behavior', 'Quantity'])\n",
    "        hours_played = user_data[user_data['Behavior'] == 'play'].groupby('Game').agg(np.mean).sort_values(by='Quantity', ascending=False).drop('UserID', axis='columns')\n",
    "        normalized_user_data = user_data.copy()[user_data['Game'].isin(hours_played.index)]\n",
    "        normalized_user_data['Quantity'] = normalized_user_data.apply(lambda x: x['Quantity'] if x['Behavior'] == 'purchase' else x['Quantity'] / hours_played.loc[x['Game'], :]['Quantity'], axis=1)\n",
    "        grouped_users = normalized_user_data.groupby(['UserID', 'Game']).aggregate({'Quantity': 'sum'})\n",
    "        grouped_users = grouped_users.reset_index(level='Game')\n",
    "        pivoted_users = grouped_users.reset_index()\n",
    "        pivoted_users_og = pivoted_users.set_index(['UserID', 'Game'])\n",
    "        pivoted_users_og = pivoted_users_og.unstack(fill_value=0)\n",
    "        \n",
    "        ####################################TESTING#########################################\n",
    "        \n",
    "        # SELECTION\n",
    "            #for all rows, aggregate the sum of columns and count of \n",
    "            #     columns [1:n] that are not 0.0, create new two new columns\n",
    "            #     \"total_quantity\" and \"game_count\"\n",
    "        pivoted_users_og['total_quantity'] = pivoted_users_og.sum(axis=1)\n",
    "        \n",
    "        #Note for REMOVAL step: game_count + 1 (includes the userID)\n",
    "        pivoted_users_og['game_count'] = pivoted_users_og.apply(lambda row: (row != 0.0).sum(), axis=1)\n",
    "        \n",
    "        # selection of top k and rand k users with their quantity \n",
    "        #   (for visualization/placement on chart) and game_count to avoid large index removal error\n",
    "        pivoted_users_select = pivoted_users_og.sort_values(by=['total_quantity','game_count'], ascending=[False, False])\n",
    "        new_df = pivoted_users_select.iloc[:, -2:].reset_index()\n",
    "        del pivoted_users_select\n",
    "        del pivoted_users_og\n",
    "        # ERROR FIX on lossing the dataframe format in the LOCATE & RENAME step\n",
    "        new_df = new_df.drop(new_df[(new_df['game_count'] == 2)].index)\n",
    "        new_df['UserID'] = new_df['UserID'].astype(str)\n",
    "        self.top_k_users = new_df.head(k).values.tolist()\n",
    "        #echo print (can access elements as a 2d array)\n",
    "        self.rand_k_users = new_df.sample(k).values.tolist()\n",
    "        del new_df\n",
    "        #echo print (can access elements as a 2d array)\n",
    "        # LOCATE AND RENAME AND REMOVE\n",
    "        self.k_users_testid = []\n",
    "        self.k_users_dropped = []\n",
    "\n",
    "        if selection == 'top':\n",
    "            users = self.top_k_users\n",
    "        elif selection == 'rand':\n",
    "            users = self.rand_k_users\n",
    "        \n",
    "        for i in range(k):\n",
    "            # LOCATE\n",
    "            ACTUAL_user = grouped_users.loc[int(users[i][0])].reset_index()\n",
    "            \n",
    "            # RENAME\n",
    "            ACTUAL_user.loc[ACTUAL_user['UserID'] == int(users[i][0]), 'UserID'] = 'TEST_' +str(users[i][0])\n",
    "            TEST_user = ACTUAL_user.copy()\n",
    "            TEST_userid = TEST_user['UserID'].values[0]\n",
    "            self.k_users_testid.append(TEST_userid)\n",
    "\n",
    "            # REMOVE\n",
    "            if selection == 'rand' and users[i][2] <= self.NUMBER_OF_RECOMMENDATIONS:\n",
    "                drop_rows = TEST_user.sample(n=users[i][2]-1)            \n",
    "            else: \n",
    "                drop_rows = TEST_user.sample(n=self.NUMBER_OF_RECOMMENDATIONS)\n",
    "\n",
    "            self.k_users_dropped.append(drop_rows['Game'].values.tolist())\n",
    "            \n",
    "            TEST_user_dropped = TEST_user.drop(drop_rows.index)\n",
    "            \n",
    "            del ACTUAL_user\n",
    "            del TEST_user\n",
    "            #concat this dataframe to the pivoted_users dataframe\n",
    "            pivoted_users = pd.concat([pivoted_users, TEST_user_dropped], axis=0)\n",
    "\n",
    "        #TESTING SETUP ENDS \n",
    "        pivoted_users = pivoted_users.set_index(['UserID', 'Game'])\n",
    "        self.pivoted_users = pivoted_users.unstack(fill_value=0)\n",
    "        \n",
    "        del pivoted_users\n",
    "        \n",
    "        # Instaniate Models\n",
    "        self.model_1 = Model_1(self.game_stats, self.pivoted_users)\n",
    "        #self.model_2 = Model_2()\n",
    "        self.model_3 = Model_3(self.pivoted_users)\n",
    "        \n",
    "        gc.collect()\n",
    "    \n",
    "    def evaluate(self, select: int) -> List[str]:\n",
    "        print(self.k_users_dropped[select])\n",
    "        \n",
    "    def predict(self, k: int) -> List[str]:\n",
    "        \n",
    "        user_id = str(self.k_users_testid[0])\n",
    "        \n",
    "        number_non_zero_columns = self.pivoted_users.shape[1] - self.pivoted_users.loc[user_id].isin([0.0]).sum()\n",
    "\n",
    "        recommendations = []\n",
    "        if number_non_zero_columns >= self.USE_MODEL_2:\n",
    "            print(\"Applying model 3\")\n",
    "            recommendations.extend(self.model_3.predict(user_id))\n",
    "            if len(recommendations) >= self.NUMBER_OF_RECOMMENDATIONS:\n",
    "                return recommendations\n",
    "        if number_non_zero_columns >= self.USE_MODEL_1:\n",
    "            print(\"Applying model 2\")\n",
    "            recommendations.extend(self.model_2.predict(user_id)[:self.NUMBER_OF_RECOMMENDATIONS - len(recommendations)])\n",
    "            if len(recommendations) >= self.NUMBER_OF_RECOMMENDATIONS:\n",
    "                return recommendations\n",
    "        if number_non_zero_columns < self.USE_MODEL_1:\n",
    "            print(\"Applying model 1\")\n",
    "            recommendations.extend(self.model_1.predict(user_id)[:self.NUMBER_OF_RECOMMENDATIONS - len(recommendations)])\n",
    "            if len(recommendations) >= self.NUMBER_OF_RECOMMENDATIONS:\n",
    "                return recommendations"
   ]
  },
  {
   "cell_type": "code",
   "execution_count": 57,
   "metadata": {
    "scrolled": true
   },
   "outputs": [],
   "source": [
    "k = 5\n",
    "test = Testing('top', k)"
   ]
  },
  {
   "cell_type": "code",
   "execution_count": 59,
   "metadata": {},
   "outputs": [
    {
     "name": "stdout",
     "output_type": "stream",
     "text": [
      "Applying model 3\n",
      "[\"Penny Arcade's On the Rain-Slick Precipice of Darkness 3\", 'Command and Conquer Red Alert 3', 'Afterfall InSanity Extended Edition', 'Gratuitous Space Battles', 'Dungeon Defenders', 'Cossacks II Napoleonic Wars', 'Aliens vs. Predator', 'Star Wars - Battlefront II', 'Primordia', 'SpellForce 2 Gold Edition', 'Paper Sorcerer', 'Scourge Outbreak', 'Red Orchestra 2 Heroes of Stalingrad - Single Player', 'Hearts of Iron II Complete', 'Arma 2', 'Pirates of Black Cove Gold', '16bit Trader', 'Sacred Gold', 'Particula', 'KnightShift']\n",
      "0.0\n"
     ]
    }
   ],
   "source": [
    "k = 5\n",
    "\n",
    "recomm = []\n",
    "recomm = test.predict(k)\n",
    "dropped = []\n",
    "dropped = test.evaluate(0)\n",
    "accuracy = []\n",
    "tot_acc = 0\n",
    "\n",
    "\n",
    "res = np.in1d(recomm, dropped)\n",
    "hit_count = sum(res)\n",
    "acc = hit_count/(len(recomm[0]))\n",
    "accuracy.append(acc)\n",
    "tot_acc += acc\n",
    "\n",
    "print(tot_acc)\n"
   ]
  },
  {
   "cell_type": "raw",
   "metadata": {},
   "source": [
    " Main Model"
   ]
  },
  {
   "cell_type": "code",
   "execution_count": 7,
   "metadata": {},
   "outputs": [],
   "source": [
    "class Model:\n",
    "    def __init__(self) -> None:\n",
    "        self.NUMBER_OF_RECOMMENDATIONS = 10\n",
    "        self.USE_MODEL_1 = 20\n",
    "        self.USE_MODEL_2 = 50\n",
    "\n",
    "        # Download data as required\n",
    "\n",
    "        if not os.path.exists('steam-games-dataset'):\n",
    "            od.download( \n",
    "                \"https://www.kaggle.com/datasets/fronkongames/steam-games-dataset/data\") \n",
    "    \n",
    "        if not os.path.exists('steam-video-games'):\n",
    "            od.download( \n",
    "                \"https://www.kaggle.com/datasets/tamber/steam-video-games/data\") \n",
    "    \n",
    "        if not os.path.exists('popularity-of-games-on-steam'):\n",
    "            od.download( \n",
    "                \"https://www.kaggle.com/datasets/michau96/popularity-of-games-on-steam\")       \n",
    "        \n",
    "        # Transform Game Data\n",
    "        game_stats = pd.read_csv('steam-games-dataset/games.csv', encoding='ISO-8859-1', usecols = [0, 1, 2, 22, 23, 28]) \n",
    "        tot_pos_reviews = (game_stats['Positive'].sum())\n",
    "        game_stats['ranking'] = np.sqrt(game_stats['Positive']/tot_pos_reviews) * 100.0\n",
    "        self.game_stats = game_stats\n",
    "        \n",
    "        # Transform User Data\n",
    "        user_data = pd.read_csv('steam-video-games/steam-200k.csv', encoding='ISO-8859-1', usecols=[0, 1, 2, 3], names=['UserID', 'Game', 'Behavior', 'Quantity'])\n",
    "        hours_played = user_data[user_data['Behavior'] == 'play'].groupby('Game').agg(np.mean).sort_values(by='Quantity', ascending=False).drop('UserID', axis='columns')\n",
    "        normalized_user_data = user_data.copy()[user_data['Game'].isin(hours_played.index)]\n",
    "        normalized_user_data['Quantity'] = normalized_user_data.apply(lambda x: x['Quantity'] if x['Behavior'] == 'purchase' else x['Quantity'] / hours_played.loc[x['Game'], :]['Quantity'], axis=1)\n",
    "        grouped_users = normalized_user_data.groupby(['UserID', 'Game']).aggregate({'Quantity': 'sum'})\n",
    "        grouped_users = grouped_users.reset_index(level='Game')\n",
    "        pivoted_users = grouped_users.reset_index()\n",
    "        pivoted_users = pivoted_users.set_index(['UserID', 'Game'])\n",
    "        self.pivoted_users = pivoted_users.unstack(fill_value=0)\n",
    "    \n",
    "        # Instaniate Models\n",
    "        self.model_1 = Model_1(self.game_stats, self.pivoted_users)\n",
    "        self.model_2 = Model_2()\n",
    "        self.model_3 = Model_3(self.pivoted_users)\n",
    "\n",
    "    def predict(self, user_id: int) -> List[str]:\n",
    "        number_non_zero_columns = self.pivoted_users.shape[1] - self.pivoted_users.loc[user_id].isin([0.0]).sum()\n",
    "\n",
    "        recommendations = []\n",
    "        if number_non_zero_columns >= self.USE_MODEL_2:\n",
    "            recommendations.extend(self.model_3.predict(user_id))\n",
    "            if len(recommendations) >= self.NUMBER_OF_RECOMMENDATIONS:\n",
    "                return recommendations\n",
    "        if number_non_zero_columns >= self.USE_MODEL_1:\n",
    "            recommendations.extend(self.model_2.predict(user_id)[:self.NUMBER_OF_RECOMMENDATIONS - len(recommendations)])\n",
    "            if len(recommendations) >= self.NUMBER_OF_RECOMMENDATIONS:\n",
    "                return recommendations\n",
    "        if number_non_zero_columns < self.USE_MODEL_1:\n",
    "            recommendations.extend(self.model_1.predict(user_id)[:self.NUMBER_OF_RECOMMENDATIONS - len(recommendations)])\n",
    "            if len(recommendations) >= self.NUMBER_OF_RECOMMENDATIONS:\n",
    "                return recommendations"
   ]
  },
  {
   "cell_type": "code",
   "execution_count": 8,
   "metadata": {},
   "outputs": [],
   "source": [
    "model = Model()"
   ]
  },
  {
   "cell_type": "code",
   "execution_count": 9,
   "metadata": {},
   "outputs": [
    {
     "data": {
      "text/plain": [
       "['Dead by Daylight',\n",
       " 'Euro Truck Simulator 2',\n",
       " 'New World',\n",
       " 'RimWorld',\n",
       " 'Destiny 2',\n",
       " 'Hollow Knight',\n",
       " 'ARK: Survival Evolved',\n",
       " 'The Binding of Isaac: Rebirth',\n",
       " 'Brawlhalla',\n",
       " 'Life is Strange - Episode 1',\n",
       " 'Mount & Blade II: Bannerlord',\n",
       " 'Human: Fall Flat',\n",
       " 'Hearts of Iron IV',\n",
       " 'Risk of Rain 2',\n",
       " 'Raft',\n",
       " 'Red Dead Redemption 2',\n",
       " 'Fallout 4',\n",
       " 'Cyberpunk 2077',\n",
       " 'DOOM Eternal',\n",
       " 'Arma 3']"
      ]
     },
     "execution_count": 9,
     "metadata": {},
     "output_type": "execute_result"
    }
   ],
   "source": [
    "model.predict(185914106)"
   ]
  },
  {
   "cell_type": "code",
   "execution_count": null,
   "metadata": {},
   "outputs": [],
   "source": []
  }
 ],
 "metadata": {
  "kernelspec": {
   "display_name": "Python 3",
   "language": "python",
   "name": "python3"
  },
  "language_info": {
   "codemirror_mode": {
    "name": "ipython",
    "version": 3
   },
   "file_extension": ".py",
   "mimetype": "text/x-python",
   "name": "python",
   "nbconvert_exporter": "python",
   "pygments_lexer": "ipython3",
   "version": "3.6.9"
  }
 },
 "nbformat": 4,
 "nbformat_minor": 2
}
