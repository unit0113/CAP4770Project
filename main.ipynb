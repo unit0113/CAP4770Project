{
 "cells": [
  {
   "cell_type": "markdown",
   "metadata": {},
   "source": [
    "Installs"
   ]
  },
  {
   "cell_type": "code",
   "execution_count": null,
   "metadata": {},
   "outputs": [],
   "source": [
    "%pip install opendatasets\n",
    "%pip install pandas\n",
    "%pip install scikit-learn\n",
    "%pip install matplotlib\n",
    "%matplotlib inline"
   ]
  },
  {
   "cell_type": "markdown",
   "metadata": {},
   "source": [
    "Imports"
   ]
  },
  {
   "cell_type": "code",
   "execution_count": 8,
   "metadata": {},
   "outputs": [],
   "source": [
    "import pandas as pd\n",
    "import os\n",
    "import numpy as np\n",
    "import opendatasets as od \n",
    "from typing import List\n",
    "from sklearn.neighbors import KDTree\n",
    "from sklearn.decomposition import PCA"
   ]
  },
  {
   "cell_type": "markdown",
   "metadata": {},
   "source": [
    "Model 1"
   ]
  },
  {
   "cell_type": "code",
   "execution_count": 9,
   "metadata": {},
   "outputs": [],
   "source": [
    "class Model_1:\n",
    "    def __init__(self, game_stats: pd.DataFrame, user_data: pd.DataFrame) -> None:\n",
    "        self.game_stats = game_stats\n",
    "        self.user_data = user_data\n",
    "        \n",
    "    def predict(self, user_id: int) -> List[str]:    \n",
    "        self.game_stats.rename(columns={'AppID': 'game_id','Name':'game_name','Average playtime forever':'hours_played', 'Release date': \"release_date\"}, inplace=True)\n",
    "        self.game_stats = self.game_stats.drop(self.game_stats[self.game_stats['Positive'] == 0].index)\n",
    "        self.game_stats = self.game_stats.sort_values(by=['ranking','hours_played', 'release_date'], ascending=[False, False, False])\n",
    "        game_stats2 = self.game_stats[['game_id', 'game_name']]\n",
    "        hund_recs = game_stats2.head(100)\n",
    "        rand_ten = hund_recs.sample(n=50)\n",
    "        \n",
    "        user_games = self.user_data.loc[user_id].reset_index().set_index('Game').drop('level_0', axis='columns').rename(columns={user_id: 'Quantity'})\n",
    "        user_games = list(user_games[user_games['Quantity'] != 0.0].index)\n",
    "        \n",
    "        recommendations = []\n",
    "        i = 0\n",
    "        while len(recommendations) < 10:\n",
    "            game_name = rand_ten.iloc[i].game_name\n",
    "            if game_name not in user_games:\n",
    "                recommendations.append(game_name)            \n",
    "            i += 1\n",
    "        \n",
    "        return recommendations"
   ]
  },
  {
   "cell_type": "markdown",
   "metadata": {},
   "source": [
    "Model 2"
   ]
  },
  {
   "cell_type": "code",
   "execution_count": 4,
   "metadata": {},
   "outputs": [],
   "source": [
    "class Model_2:\n",
    "    def __init__(self) -> None:\n",
    "        pass\n",
    "\n",
    "    def predict(self) -> list[str]:\n",
    "        raise NotImplementedError('Model 2 predict not implemented')"
   ]
  },
  {
   "cell_type": "markdown",
   "metadata": {},
   "source": [
    "Model 3"
   ]
  },
  {
   "cell_type": "code",
   "execution_count": 11,
   "metadata": {},
   "outputs": [],
   "source": [
    "class Model_3:\n",
    "    def __init__(self, user_data: pd.DataFrame) -> None:\n",
    "        self.user_data = user_data\n",
    "        self.pca = PCA(n_components=200)\n",
    "        self.pca_data = self.pca.fit_transform(user_data.values)\n",
    "        self.tree = KDTree(self.pca_data)\n",
    "\n",
    "    def predict(self, user_id: int) -> List[str]:\n",
    "        # Find neighbors\n",
    "        N_NEIGHBORS = 100\n",
    "        user_index = self.user_data.index.get_loc(user_id)\n",
    "        neighbors = self.tree.query(self.pca_data[user_index:user_index+1], k=N_NEIGHBORS, return_distance=False)[0]\n",
    "        combined_neighbors = self.user_data.iloc[neighbors].sum().T.sort_values(ascending=False).reset_index().set_index('Game').drop('level_0', axis='columns').rename(columns={0: 'Quantity'})\n",
    "\n",
    "        # Get list of user's currently owned games\n",
    "        user_games = self.user_data.loc[user_id].reset_index().set_index('Game').drop('level_0', axis='columns').rename(columns={user_id: 'Quantity'})\n",
    "        user_games = list(user_games[user_games['Quantity'] != 0.0].index)\n",
    "\n",
    "        # Build recommendation list\n",
    "        recommendations = []\n",
    "        i = 0\n",
    "        while len(recommendations) < 10:\n",
    "            game_name = combined_neighbors.iloc[i].name\n",
    "            if game_name not in user_games:\n",
    "                recommendations.append(game_name)\n",
    "            i += 1\n",
    "            \n",
    "            # Break if out of relevant games\n",
    "            if combined_neighbors.iloc[i].Quantity == 0.0:\n",
    "                break\n",
    "\n",
    "        return recommendations"
   ]
  },
  {
   "cell_type": "markdown",
   "metadata": {},
   "source": [
    "Main Model"
   ]
  },
  {
   "cell_type": "code",
   "execution_count": 14,
   "metadata": {},
   "outputs": [],
   "source": [
    "class Model:\n",
    "    def __init__(self) -> None:\n",
    "        self.NUMBER_OF_RECOMMENDATIONS = 10\n",
    "        self.USE_MODEL_1 = 20\n",
    "        self.USE_MODEL_2 = 50\n",
    "\n",
    "        # Download data as required\n",
    "\n",
    "        if not os.path.exists('steam-games-dataset'):\n",
    "            od.download( \n",
    "                \"https://www.kaggle.com/datasets/fronkongames/steam-games-dataset/data\") \n",
    "    \n",
    "        if not os.path.exists('steam-video-games'):\n",
    "            od.download( \n",
    "                \"https://www.kaggle.com/datasets/tamber/steam-video-games/data\") \n",
    "    \n",
    "        if not os.path.exists('popularity-of-games-on-steam'):\n",
    "            od.download( \n",
    "                \"https://www.kaggle.com/datasets/michau96/popularity-of-games-on-steam\")       \n",
    "        \n",
    "        # Transform Game Data\n",
    "        game_stats = pd.read_csv('steam-games-dataset/games.csv', encoding='ISO-8859-1', usecols = [0, 1, 2, 22, 23, 28]) \n",
    "        tot_pos_reviews = (game_stats['Positive'].sum())\n",
    "        game_stats['ranking'] = np.sqrt(game_stats['Positive']/tot_pos_reviews) * 100.0\n",
    "        self.game_stats = game_stats\n",
    "        \n",
    "        # Transform User Data\n",
    "        user_data = pd.read_csv('steam-video-games/steam-200k.csv', encoding='ISO-8859-1', usecols=[0, 1, 2, 3], names=['UserID', 'Game', 'Behavior', 'Quantity'])\n",
    "        hours_played = user_data[user_data['Behavior'] == 'play'].groupby('Game').agg(np.mean).sort_values(by='Quantity', ascending=False).drop('UserID', axis='columns')\n",
    "        normalized_user_data = user_data.copy()[user_data['Game'].isin(hours_played.index)]\n",
    "        normalized_user_data['Quantity'] = normalized_user_data.apply(lambda x: x['Quantity'] if x['Behavior'] == 'purchase' else x['Quantity'] / hours_played.loc[x['Game'], :]['Quantity'], axis=1)\n",
    "        grouped_users = normalized_user_data.groupby(['UserID', 'Game']).aggregate({'Quantity': 'sum'})\n",
    "        grouped_users = grouped_users.reset_index(level='Game')\n",
    "        pivoted_users = grouped_users.reset_index()\n",
    "        pivoted_users = pivoted_users.set_index(['UserID', 'Game'])\n",
    "        self.pivoted_users = pivoted_users.unstack(fill_value=0)\n",
    "    \n",
    "        # Instaniate Models\n",
    "        self.model_1 = Model_1(self.game_stats, self.pivoted_users)\n",
    "        self.model_2 = Model_2()\n",
    "        self.model_3 = Model_3(self.pivoted_users)\n",
    "\n",
    "    def predict(self, user_id: int) -> List[str]:\n",
    "        number_non_zero_columns = self.pivoted_users.shape[1] - self.pivoted_users.loc[user_id].isin([0.0]).sum()\n",
    "\n",
    "        recommendations = []\n",
    "        if number_non_zero_columns >= self.USE_MODEL_2:\n",
    "            recommendations.extend(self.model_3.predict(user_id))\n",
    "            if len(recommendations) >= self.NUMBER_OF_RECOMMENDATIONS:\n",
    "                return recommendations\n",
    "        if number_non_zero_columns >= self.USE_MODEL_1:\n",
    "            recommendations.extend(self.model_2.predict(user_id)[:self.NUMBER_OF_RECOMMENDATIONS - len(recommendations)])\n",
    "            if len(recommendations) >= self.NUMBER_OF_RECOMMENDATIONS:\n",
    "                return recommendations\n",
    "        if number_non_zero_columns < self.USE_MODEL_1:\n",
    "            recommendations.extend(self.model_1.predict(user_id)[:self.NUMBER_OF_RECOMMENDATIONS - len(recommendations)])\n",
    "            if len(recommendations) >= self.NUMBER_OF_RECOMMENDATIONS:\n",
    "                return recommendations"
   ]
  },
  {
   "cell_type": "markdown",
   "metadata": {},
   "source": [
    "Main"
   ]
  },
  {
   "cell_type": "code",
   "execution_count": 15,
   "metadata": {},
   "outputs": [],
   "source": [
    "model = Model()"
   ]
  },
  {
   "cell_type": "code",
   "execution_count": 16,
   "metadata": {},
   "outputs": [
    {
     "data": {
      "text/plain": [
       "['Grand Theft Auto IV',\n",
       " 'War Thunder',\n",
       " 'Counter-Strike Condition Zero',\n",
       " 'The Witcher 2 Assassins of Kings Enhanced Edition',\n",
       " 'Just Cause 2',\n",
       " 'Counter-Strike Condition Zero Deleted Scenes',\n",
       " 'Castle Crashers',\n",
       " 'Free to Play',\n",
       " 'Dishonored',\n",
       " 'Neverwinter']"
      ]
     },
     "execution_count": 16,
     "metadata": {},
     "output_type": "execute_result"
    }
   ],
   "source": [
    "# Predict with model 3\n",
    "model.predict(11403772)"
   ]
  }
 ],
 "metadata": {
  "kernelspec": {
   "display_name": "Python 3",
   "language": "python",
   "name": "python3"
  },
  "language_info": {
   "codemirror_mode": {
    "name": "ipython",
    "version": 3
   },
   "file_extension": ".py",
   "mimetype": "text/x-python",
   "name": "python",
   "nbconvert_exporter": "python",
   "pygments_lexer": "ipython3",
   "version": "3.6.9"
  }
 },
 "nbformat": 4,
 "nbformat_minor": 2
}
