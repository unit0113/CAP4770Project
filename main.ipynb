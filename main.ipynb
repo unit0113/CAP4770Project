{
 "cells": [
  {
   "cell_type": "markdown",
   "metadata": {},
   "source": [
    "Installs"
   ]
  },
  {
   "cell_type": "code",
   "execution_count": 15,
   "metadata": {},
   "outputs": [
    {
     "name": "stdout",
     "output_type": "stream",
     "text": [
      "Requirement already satisfied: opendatasets in c:\\users\\unit0\\appdata\\local\\programs\\python\\python310\\lib\\site-packages (0.1.22)\n",
      "Requirement already satisfied: tqdm in c:\\users\\unit0\\appdata\\local\\programs\\python\\python310\\lib\\site-packages (from opendatasets) (4.62.3)\n",
      "Requirement already satisfied: kaggle in c:\\users\\unit0\\appdata\\local\\programs\\python\\python310\\lib\\site-packages (from opendatasets) (1.6.14)\n",
      "Requirement already satisfied: click in c:\\users\\unit0\\appdata\\local\\programs\\python\\python310\\lib\\site-packages (from opendatasets) (7.1.2)\n",
      "Requirement already satisfied: six>=1.10 in c:\\users\\unit0\\appdata\\local\\programs\\python\\python310\\lib\\site-packages (from kaggle->opendatasets) (1.16.0)\n",
      "Requirement already satisfied: certifi>=2023.7.22 in c:\\users\\unit0\\appdata\\local\\programs\\python\\python310\\lib\\site-packages (from kaggle->opendatasets) (2024.7.4)\n",
      "Requirement already satisfied: python-dateutil in c:\\users\\unit0\\appdata\\local\\programs\\python\\python310\\lib\\site-packages (from kaggle->opendatasets) (2.8.2)\n",
      "Requirement already satisfied: requests in c:\\users\\unit0\\appdata\\local\\programs\\python\\python310\\lib\\site-packages (from kaggle->opendatasets) (2.26.0)\n",
      "Requirement already satisfied: python-slugify in c:\\users\\unit0\\appdata\\local\\programs\\python\\python310\\lib\\site-packages (from kaggle->opendatasets) (8.0.4)\n",
      "Requirement already satisfied: urllib3 in c:\\users\\unit0\\appdata\\local\\programs\\python\\python310\\lib\\site-packages (from kaggle->opendatasets) (1.26.7)\n",
      "Requirement already satisfied: bleach in c:\\users\\unit0\\appdata\\local\\programs\\python\\python310\\lib\\site-packages (from kaggle->opendatasets) (4.1.0)\n",
      "Requirement already satisfied: colorama in c:\\users\\unit0\\appdata\\local\\programs\\python\\python310\\lib\\site-packages (from tqdm->opendatasets) (0.4.6)\n",
      "Requirement already satisfied: packaging in c:\\users\\unit0\\appdata\\local\\programs\\python\\python310\\lib\\site-packages (from bleach->kaggle->opendatasets) (23.1)\n",
      "Requirement already satisfied: webencodings in c:\\users\\unit0\\appdata\\local\\programs\\python\\python310\\lib\\site-packages (from bleach->kaggle->opendatasets) (0.5.1)\n",
      "Requirement already satisfied: text-unidecode>=1.3 in c:\\users\\unit0\\appdata\\local\\programs\\python\\python310\\lib\\site-packages (from python-slugify->kaggle->opendatasets) (1.3)\n",
      "Requirement already satisfied: charset-normalizer~=2.0.0 in c:\\users\\unit0\\appdata\\local\\programs\\python\\python310\\lib\\site-packages (from requests->kaggle->opendatasets) (2.0.7)\n",
      "Requirement already satisfied: idna<4,>=2.5 in c:\\users\\unit0\\appdata\\local\\programs\\python\\python310\\lib\\site-packages (from requests->kaggle->opendatasets) (3.3)\n",
      "Note: you may need to restart the kernel to use updated packages.\n"
     ]
    },
    {
     "name": "stderr",
     "output_type": "stream",
     "text": [
      "\n",
      "[notice] A new release of pip is available: 23.2.1 -> 24.1.2\n",
      "[notice] To update, run: python.exe -m pip install --upgrade pip\n"
     ]
    },
    {
     "name": "stdout",
     "output_type": "stream",
     "text": [
      "Requirement already satisfied: pandas in c:\\users\\unit0\\appdata\\local\\programs\\python\\python310\\lib\\site-packages (1.4.2)\n",
      "Requirement already satisfied: python-dateutil>=2.8.1 in c:\\users\\unit0\\appdata\\local\\programs\\python\\python310\\lib\\site-packages (from pandas) (2.8.2)\n",
      "Requirement already satisfied: pytz>=2020.1 in c:\\users\\unit0\\appdata\\local\\programs\\python\\python310\\lib\\site-packages (from pandas) (2021.3)\n",
      "Requirement already satisfied: numpy>=1.21.0 in c:\\users\\unit0\\appdata\\local\\programs\\python\\python310\\lib\\site-packages (from pandas) (1.22.4)\n",
      "Requirement already satisfied: six>=1.5 in c:\\users\\unit0\\appdata\\local\\programs\\python\\python310\\lib\\site-packages (from python-dateutil>=2.8.1->pandas) (1.16.0)\n",
      "Note: you may need to restart the kernel to use updated packages.\n"
     ]
    },
    {
     "name": "stderr",
     "output_type": "stream",
     "text": [
      "\n",
      "[notice] A new release of pip is available: 23.2.1 -> 24.1.2\n",
      "[notice] To update, run: python.exe -m pip install --upgrade pip\n"
     ]
    },
    {
     "name": "stdout",
     "output_type": "stream",
     "text": [
      "Requirement already satisfied: scikit-learn in c:\\users\\unit0\\appdata\\local\\programs\\python\\python310\\lib\\site-packages (1.0.2)\n",
      "Requirement already satisfied: numpy>=1.14.6 in c:\\users\\unit0\\appdata\\local\\programs\\python\\python310\\lib\\site-packages (from scikit-learn) (1.22.4)\n",
      "Requirement already satisfied: scipy>=1.1.0 in c:\\users\\unit0\\appdata\\local\\programs\\python\\python310\\lib\\site-packages (from scikit-learn) (1.7.3)\n",
      "Requirement already satisfied: joblib>=0.11 in c:\\users\\unit0\\appdata\\local\\programs\\python\\python310\\lib\\site-packages (from scikit-learn) (1.1.0)\n",
      "Requirement already satisfied: threadpoolctl>=2.0.0 in c:\\users\\unit0\\appdata\\local\\programs\\python\\python310\\lib\\site-packages (from scikit-learn) (3.0.0)\n",
      "Note: you may need to restart the kernel to use updated packages.\n"
     ]
    },
    {
     "name": "stderr",
     "output_type": "stream",
     "text": [
      "\n",
      "[notice] A new release of pip is available: 23.2.1 -> 24.1.2\n",
      "[notice] To update, run: python.exe -m pip install --upgrade pip\n"
     ]
    },
    {
     "name": "stdout",
     "output_type": "stream",
     "text": [
      "Requirement already satisfied: matplotlib in c:\\users\\unit0\\appdata\\local\\programs\\python\\python310\\lib\\site-packages (3.5.2)\n",
      "Requirement already satisfied: cycler>=0.10 in c:\\users\\unit0\\appdata\\local\\programs\\python\\python310\\lib\\site-packages (from matplotlib) (0.11.0)\n",
      "Requirement already satisfied: fonttools>=4.22.0 in c:\\users\\unit0\\appdata\\local\\programs\\python\\python310\\lib\\site-packages (from matplotlib) (4.28.5)\n",
      "Requirement already satisfied: kiwisolver>=1.0.1 in c:\\users\\unit0\\appdata\\local\\programs\\python\\python310\\lib\\site-packages (from matplotlib) (1.3.2)\n",
      "Requirement already satisfied: numpy>=1.17 in c:\\users\\unit0\\appdata\\local\\programs\\python\\python310\\lib\\site-packages (from matplotlib) (1.22.4)\n",
      "Requirement already satisfied: packaging>=20.0 in c:\\users\\unit0\\appdata\\local\\programs\\python\\python310\\lib\\site-packages (from matplotlib) (23.1)\n",
      "Requirement already satisfied: pillow>=6.2.0 in c:\\users\\unit0\\appdata\\local\\programs\\python\\python310\\lib\\site-packages (from matplotlib) (9.4.0)\n",
      "Requirement already satisfied: pyparsing>=2.2.1 in c:\\users\\unit0\\appdata\\local\\programs\\python\\python310\\lib\\site-packages (from matplotlib) (3.0.6)\n",
      "Requirement already satisfied: python-dateutil>=2.7 in c:\\users\\unit0\\appdata\\local\\programs\\python\\python310\\lib\\site-packages (from matplotlib) (2.8.2)\n",
      "Requirement already satisfied: six>=1.5 in c:\\users\\unit0\\appdata\\local\\programs\\python\\python310\\lib\\site-packages (from python-dateutil>=2.7->matplotlib) (1.16.0)\n",
      "Note: you may need to restart the kernel to use updated packages.\n"
     ]
    },
    {
     "name": "stderr",
     "output_type": "stream",
     "text": [
      "\n",
      "[notice] A new release of pip is available: 23.2.1 -> 24.1.2\n",
      "[notice] To update, run: python.exe -m pip install --upgrade pip\n"
     ]
    }
   ],
   "source": [
    "%pip install opendatasets\n",
    "%pip install pandas\n",
    "%pip install scikit-learn\n",
    "%pip install matplotlib\n",
    "%matplotlib inline"
   ]
  },
  {
   "cell_type": "markdown",
   "metadata": {},
   "source": [
    "Imports"
   ]
  },
  {
   "cell_type": "code",
   "execution_count": 16,
   "metadata": {},
   "outputs": [],
   "source": [
    "import pandas as pd\n",
    "import os\n",
    "import numpy as np\n",
    "import opendatasets as od \n",
    "from sklearn.neighbors import KDTree\n",
    "from sklearn.decomposition import PCA"
   ]
  },
  {
   "cell_type": "markdown",
   "metadata": {},
   "source": [
    "Model 1"
   ]
  },
  {
   "cell_type": "code",
   "execution_count": 17,
   "metadata": {},
   "outputs": [],
   "source": [
    "class Model_1:\n",
    "    def __init__(self) -> None:\n",
    "        pass\n",
    "\n",
    "    def predict(self) -> list[str]:\n",
    "        raise NotImplementedError('Model 1 predict not implemented')"
   ]
  },
  {
   "cell_type": "markdown",
   "metadata": {},
   "source": [
    "Model 2"
   ]
  },
  {
   "cell_type": "code",
   "execution_count": 18,
   "metadata": {},
   "outputs": [],
   "source": [
    "class Model_2:\n",
    "    def __init__(self) -> None:\n",
    "        pass\n",
    "\n",
    "    def predict(self) -> list[str]:\n",
    "        raise NotImplementedError('Model 2 predict not implemented')"
   ]
  },
  {
   "cell_type": "markdown",
   "metadata": {},
   "source": [
    "Model 3"
   ]
  },
  {
   "cell_type": "code",
   "execution_count": 30,
   "metadata": {},
   "outputs": [],
   "source": [
    "class Model_3:\n",
    "    def __init__(self, user_data: pd.DataFrame) -> None:\n",
    "        self.user_data = user_data\n",
    "        self.pca = PCA(n_components=200)\n",
    "        self.pca_data = self.pca.fit_transform(user_data.values)\n",
    "        self.tree = KDTree(self.pca_data)\n",
    "\n",
    "    def predict(self, user_id: int) -> list[str]:\n",
    "        # Find neighbors\n",
    "        N_NEIGHBORS = 100\n",
    "        user_index = self.user_data.index.get_loc(user_id)\n",
    "        neighbors = self.tree.query(self.pca_data[user_index:user_index+1], k=N_NEIGHBORS, return_distance=False)[0]\n",
    "        combined_neighbors = self.user_data.iloc[neighbors].sum().T.sort_values(ascending=False).reset_index().set_index('Game').drop('level_0', axis='columns').rename(columns={0: 'Quantity'})\n",
    "\n",
    "        # Get list of user's currently owned games\n",
    "        user_games = self.user_data.loc[user_id].reset_index().set_index('Game').drop('level_0', axis='columns').rename(columns={user_id: 'Quantity'})\n",
    "        user_games = list(user_games[user_games['Quantity'] != 0.0].index)\n",
    "\n",
    "        # Build recommendation list\n",
    "        recommendations = []\n",
    "        i = 0\n",
    "        while len(recommendations) < 10:\n",
    "            game_name = combined_neighbors.iloc[i].name\n",
    "            if game_name not in user_games:\n",
    "                recommendations.append(game_name)\n",
    "            i += 1\n",
    "            \n",
    "            # Break if out of relevant games\n",
    "            if combined_neighbors.iloc[i].Quantity == 0.0:\n",
    "                break\n",
    "\n",
    "        return recommendations"
   ]
  },
  {
   "cell_type": "markdown",
   "metadata": {},
   "source": [
    "Main Model"
   ]
  },
  {
   "cell_type": "code",
   "execution_count": 39,
   "metadata": {},
   "outputs": [],
   "source": [
    "class Model:\n",
    "    def __init__(self) -> None:\n",
    "        self.NUMBER_OF_RECOMMENDATIONS = 10\n",
    "        self.USE_MODEL_1 = 20\n",
    "        self.USE_MODEL_2 = 50\n",
    "\n",
    "        # Download data as required\n",
    "        if not os.path.exists('steam-games-dataset'):\n",
    "            od.download( \n",
    "                \"https://www.kaggle.com/datasets/fronkongames/steam-games-dataset/data\") \n",
    "            \n",
    "        if not os.path.exists('steam-video-games'):\n",
    "            od.download( \n",
    "                \"https://www.kaggle.com/datasets/tamber/steam-video-games/data\") \n",
    "            \n",
    "        if not os.path.exists('popularity-of-games-on-steam'):\n",
    "            od.download( \n",
    "                \"https://www.kaggle.com/datasets/michau96/popularity-of-games-on-steam\") \n",
    "            \n",
    "        # Transform User Data\n",
    "        user_data = pd.read_csv('steam-video-games\\steam-200k.csv', encoding='ISO-8859-1', usecols=[0, 1, 2, 3], names=['UserID', 'Game', 'Behavior', 'Quantity'])\n",
    "        hours_played = user_data[user_data['Behavior'] == 'play'].groupby('Game').agg(np.mean).sort_values(by='Quantity', ascending=False).drop('UserID', axis='columns')\n",
    "        normalized_user_data = user_data.copy()[user_data['Game'].isin(hours_played.index)]\n",
    "        normalized_user_data['Quantity'] = normalized_user_data.apply(lambda x: x['Quantity'] if x['Behavior'] == 'purchase' else x['Quantity'] / hours_played.loc[x['Game'], :]['Quantity'], axis=1)\n",
    "        grouped_users = normalized_user_data.groupby(['UserID', 'Game']).aggregate({'Quantity': 'sum'})\n",
    "        grouped_users = grouped_users.reset_index(level='Game')\n",
    "        pivoted_users = grouped_users.reset_index()\n",
    "        pivoted_users = pivoted_users.set_index(['UserID', 'Game'])\n",
    "        self.pivoted_users = pivoted_users.unstack(fill_value=0)\n",
    "    \n",
    "        # Instaniate Models\n",
    "        self.model_1 = Model_1()\n",
    "        self.model_2 = Model_2()\n",
    "        self.model_3 = Model_3(self.pivoted_users)\n",
    "\n",
    "    def predict(self, user_id: int) -> list[str]:\n",
    "        number_non_zero_columns = self.pivoted_users.shape[1] - self.pivoted_users.loc[user_id].isin([0.0]).sum()\n",
    "\n",
    "        recommendations = []\n",
    "        if number_non_zero_columns >= self.USE_MODEL_2:\n",
    "            recommendations.extend(self.model_3.predict(user_id))\n",
    "            if len(recommendations) >= self.NUMBER_OF_RECOMMENDATIONS:\n",
    "                return recommendations\n",
    "        if number_non_zero_columns >= self.USE_MODEL_1:\n",
    "            recommendations.extend(self.model_2.predict(user_id)[:self.NUMBER_OF_RECOMMENDATIONS - len(recommendations)])\n",
    "            if len(recommendations) >= self.NUMBER_OF_RECOMMENDATIONS:\n",
    "                return recommendations\n",
    "\n",
    "        return recommendations.extend(self.model_1.predict(user_id)[:self.NUMBER_OF_RECOMMENDATIONS - len(recommendations)])"
   ]
  },
  {
   "cell_type": "markdown",
   "metadata": {},
   "source": [
    "Main"
   ]
  },
  {
   "cell_type": "code",
   "execution_count": 40,
   "metadata": {},
   "outputs": [],
   "source": [
    "model = Model()"
   ]
  },
  {
   "cell_type": "code",
   "execution_count": 41,
   "metadata": {},
   "outputs": [
    {
     "data": {
      "text/plain": [
       "['Grand Theft Auto IV',\n",
       " 'War Thunder',\n",
       " 'The Witcher 2 Assassins of Kings Enhanced Edition',\n",
       " 'Just Cause 2',\n",
       " 'Counter-Strike Condition Zero',\n",
       " 'Dishonored',\n",
       " 'Castle Crashers',\n",
       " 'Free to Play',\n",
       " 'Deus Ex Human Revolution',\n",
       " 'The Walking Dead']"
      ]
     },
     "execution_count": 41,
     "metadata": {},
     "output_type": "execute_result"
    }
   ],
   "source": [
    "# Predict with model 3\n",
    "model.predict(11403772)"
   ]
  }
 ],
 "metadata": {
  "kernelspec": {
   "display_name": "Python 3",
   "language": "python",
   "name": "python3"
  },
  "language_info": {
   "codemirror_mode": {
    "name": "ipython",
    "version": 3
   },
   "file_extension": ".py",
   "mimetype": "text/x-python",
   "name": "python",
   "nbconvert_exporter": "python",
   "pygments_lexer": "ipython3",
   "version": "3.10.9"
  }
 },
 "nbformat": 4,
 "nbformat_minor": 2
}
