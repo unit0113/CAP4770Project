{
 "cells": [
  {
   "cell_type": "markdown",
   "metadata": {},
   "source": [
    "Imports"
   ]
  },
  {
   "cell_type": "code",
   "execution_count": 1,
   "metadata": {},
   "outputs": [
    {
     "name": "stdout",
     "output_type": "stream",
     "text": [
      "Collecting opendatasets\n",
      "  Obtaining dependency information for opendatasets from https://files.pythonhosted.org/packages/00/e7/12300c2f886b846375c78a4f32c0ae1cd20bdcf305b5ac45b8d7eceda3ec/opendatasets-0.1.22-py3-none-any.whl.metadata\n",
      "  Downloading opendatasets-0.1.22-py3-none-any.whl.metadata (9.2 kB)\n",
      "Requirement already satisfied: tqdm in c:\\users\\unit0\\appdata\\local\\programs\\python\\python310\\lib\\site-packages (from opendatasets) (4.62.3)\n",
      "Collecting kaggle (from opendatasets)\n",
      "  Downloading kaggle-1.6.14.tar.gz (82 kB)\n",
      "     -------------------------------------- 82.1/82.1 kB 921.2 kB/s eta 0:00:00\n",
      "  Preparing metadata (setup.py): started\n",
      "  Preparing metadata (setup.py): finished with status 'done'\n",
      "Requirement already satisfied: click in c:\\users\\unit0\\appdata\\local\\programs\\python\\python310\\lib\\site-packages (from opendatasets) (7.1.2)\n",
      "Requirement already satisfied: six>=1.10 in c:\\users\\unit0\\appdata\\local\\programs\\python\\python310\\lib\\site-packages (from kaggle->opendatasets) (1.16.0)\n",
      "Collecting certifi>=2023.7.22 (from kaggle->opendatasets)\n",
      "  Obtaining dependency information for certifi>=2023.7.22 from https://files.pythonhosted.org/packages/1c/d5/c84e1a17bf61d4df64ca866a1c9a913874b4e9bdc131ec689a0ad013fb36/certifi-2024.7.4-py3-none-any.whl.metadata\n",
      "  Downloading certifi-2024.7.4-py3-none-any.whl.metadata (2.2 kB)\n",
      "Requirement already satisfied: python-dateutil in c:\\users\\unit0\\appdata\\local\\programs\\python\\python310\\lib\\site-packages (from kaggle->opendatasets) (2.8.2)\n",
      "Requirement already satisfied: requests in c:\\users\\unit0\\appdata\\local\\programs\\python\\python310\\lib\\site-packages (from kaggle->opendatasets) (2.26.0)\n",
      "Collecting python-slugify (from kaggle->opendatasets)\n",
      "  Obtaining dependency information for python-slugify from https://files.pythonhosted.org/packages/a4/62/02da182e544a51a5c3ccf4b03ab79df279f9c60c5e82d5e8bec7ca26ac11/python_slugify-8.0.4-py2.py3-none-any.whl.metadata\n",
      "  Downloading python_slugify-8.0.4-py2.py3-none-any.whl.metadata (8.5 kB)\n",
      "Requirement already satisfied: urllib3 in c:\\users\\unit0\\appdata\\local\\programs\\python\\python310\\lib\\site-packages (from kaggle->opendatasets) (1.26.7)\n",
      "Requirement already satisfied: bleach in c:\\users\\unit0\\appdata\\local\\programs\\python\\python310\\lib\\site-packages (from kaggle->opendatasets) (4.1.0)\n",
      "Requirement already satisfied: colorama in c:\\users\\unit0\\appdata\\local\\programs\\python\\python310\\lib\\site-packages (from tqdm->opendatasets) (0.4.6)\n",
      "Requirement already satisfied: packaging in c:\\users\\unit0\\appdata\\local\\programs\\python\\python310\\lib\\site-packages (from bleach->kaggle->opendatasets) (23.1)\n",
      "Requirement already satisfied: webencodings in c:\\users\\unit0\\appdata\\local\\programs\\python\\python310\\lib\\site-packages (from bleach->kaggle->opendatasets) (0.5.1)\n",
      "Collecting text-unidecode>=1.3 (from python-slugify->kaggle->opendatasets)\n",
      "  Obtaining dependency information for text-unidecode>=1.3 from https://files.pythonhosted.org/packages/a6/a5/c0b6468d3824fe3fde30dbb5e1f687b291608f9473681bbf7dabbf5a87d7/text_unidecode-1.3-py2.py3-none-any.whl.metadata\n",
      "  Downloading text_unidecode-1.3-py2.py3-none-any.whl.metadata (2.4 kB)\n",
      "Requirement already satisfied: charset-normalizer~=2.0.0 in c:\\users\\unit0\\appdata\\local\\programs\\python\\python310\\lib\\site-packages (from requests->kaggle->opendatasets) (2.0.7)\n",
      "Requirement already satisfied: idna<4,>=2.5 in c:\\users\\unit0\\appdata\\local\\programs\\python\\python310\\lib\\site-packages (from requests->kaggle->opendatasets) (3.3)\n",
      "Downloading opendatasets-0.1.22-py3-none-any.whl (15 kB)\n",
      "Downloading certifi-2024.7.4-py3-none-any.whl (162 kB)\n",
      "   ---------------------------------------- 163.0/163.0 kB 2.5 MB/s eta 0:00:00\n",
      "Downloading python_slugify-8.0.4-py2.py3-none-any.whl (10 kB)\n",
      "Downloading text_unidecode-1.3-py2.py3-none-any.whl (78 kB)\n",
      "   ---------------------------------------- 78.2/78.2 kB 4.2 MB/s eta 0:00:00\n",
      "Building wheels for collected packages: kaggle\n",
      "  Building wheel for kaggle (setup.py): started\n",
      "  Building wheel for kaggle (setup.py): finished with status 'done'\n",
      "  Created wheel for kaggle: filename=kaggle-1.6.14-py3-none-any.whl size=105138 sha256=fa8f6f823ece3bf2a5907ca0c6e1b1e34de35fd9eb7f5801469a59f2956cf7fb\n",
      "  Stored in directory: c:\\users\\unit0\\appdata\\local\\pip\\cache\\wheels\\d7\\54\\06\\8a8f40cb39536605feb9acaacd0237a95eba39e5065e6392f4\n",
      "Successfully built kaggle\n",
      "Installing collected packages: text-unidecode, python-slugify, certifi, kaggle, opendatasets\n",
      "  Attempting uninstall: certifi\n",
      "    Found existing installation: certifi 2021.10.8\n",
      "    Uninstalling certifi-2021.10.8:\n",
      "      Successfully uninstalled certifi-2021.10.8\n",
      "Successfully installed certifi-2024.7.4 kaggle-1.6.14 opendatasets-0.1.22 python-slugify-8.0.4 text-unidecode-1.3\n",
      "Note: you may need to restart the kernel to use updated packages.\n"
     ]
    },
    {
     "name": "stderr",
     "output_type": "stream",
     "text": [
      "ERROR: pip's dependency resolver does not currently take into account all the packages that are installed. This behaviour is the source of the following dependency conflicts.\n",
      "tensorflow 2.8.0 requires tensorboard<2.9,>=2.8, but you have tensorboard 2.11.0 which is incompatible.\n",
      "\n",
      "[notice] A new release of pip is available: 23.2.1 -> 24.1.2\n",
      "[notice] To update, run: python.exe -m pip install --upgrade pip\n"
     ]
    },
    {
     "name": "stdout",
     "output_type": "stream",
     "text": [
      "Requirement already satisfied: pandas in c:\\users\\unit0\\appdata\\local\\programs\\python\\python310\\lib\\site-packages (1.4.2)\n",
      "Requirement already satisfied: python-dateutil>=2.8.1 in c:\\users\\unit0\\appdata\\local\\programs\\python\\python310\\lib\\site-packages (from pandas) (2.8.2)\n",
      "Requirement already satisfied: pytz>=2020.1 in c:\\users\\unit0\\appdata\\local\\programs\\python\\python310\\lib\\site-packages (from pandas) (2021.3)\n",
      "Requirement already satisfied: numpy>=1.21.0 in c:\\users\\unit0\\appdata\\local\\programs\\python\\python310\\lib\\site-packages (from pandas) (1.22.4)\n",
      "Requirement already satisfied: six>=1.5 in c:\\users\\unit0\\appdata\\local\\programs\\python\\python310\\lib\\site-packages (from python-dateutil>=2.8.1->pandas) (1.16.0)\n",
      "Note: you may need to restart the kernel to use updated packages.\n"
     ]
    },
    {
     "name": "stderr",
     "output_type": "stream",
     "text": [
      "\n",
      "[notice] A new release of pip is available: 23.2.1 -> 24.1.2\n",
      "[notice] To update, run: python.exe -m pip install --upgrade pip\n"
     ]
    }
   ],
   "source": [
    "%pip install opendatasets\n",
    "%pip install pandas"
   ]
  },
  {
   "cell_type": "markdown",
   "metadata": {},
   "source": [
    "Check if data exists, if not, download"
   ]
  },
  {
   "cell_type": "code",
   "execution_count": 5,
   "metadata": {},
   "outputs": [],
   "source": [
    "import opendatasets as od \n",
    "import pandas as pd\n",
    "import os\n",
    "\n",
    "if not os.path.exists('steam-games-dataset'):\n",
    "    od.download( \n",
    "        \"https://www.kaggle.com/datasets/fronkongames/steam-games-dataset/data\") \n",
    "    \n",
    "if not os.path.exists('steam-video-games'):\n",
    "    od.download( \n",
    "        \"https://www.kaggle.com/datasets/tamber/steam-video-games/data\") \n",
    "    \n",
    "if not os.path.exists('popularity-of-games-on-steam'):\n",
    "    od.download( \n",
    "        \"https://www.kaggle.com/datasets/michau96/popularity-of-games-on-steam\") \n"
   ]
  },
  {
   "cell_type": "markdown",
   "metadata": {},
   "source": [
    "Load Data"
   ]
  },
  {
   "cell_type": "code",
   "execution_count": 18,
   "metadata": {},
   "outputs": [],
   "source": [
    "game_popularity = pd.read_csv('popularity-of-games-on-steam\\SteamCharts.csv', encoding='ISO-8859-1')\n",
    "steam_games = pd.read_csv('steam-games-dataset\\games.csv', encoding='ISO-8859-1')\n",
    "user_data = pd.read_csv('steam-video-games\\steam-200k.csv', encoding='ISO-8859-1', usecols=[0, 1, 2, 3], names=['UserID', 'Game Title', 'Behavior', 'Quantity'])\n",
    "# Note: Behvior is either purchase or play. When behavior is purchase, quantity is always 1. When behavior is play, quantity is the number of hours"
   ]
  },
  {
   "cell_type": "markdown",
   "metadata": {},
   "source": [
    "Initial Data Exploration"
   ]
  },
  {
   "cell_type": "code",
   "execution_count": 11,
   "metadata": {},
   "outputs": [
    {
     "name": "stdout",
     "output_type": "stream",
     "text": [
      "gamename            0\n",
      "year                0\n",
      "month               0\n",
      "avg                 0\n",
      "gain             1260\n",
      "peak                0\n",
      "avg_peak_perc       0\n",
      "dtype: int64\n",
      "83789\n"
     ]
    }
   ],
   "source": [
    "print(game_popularity.isna().sum())\n",
    "print(len(game_popularity))"
   ]
  },
  {
   "cell_type": "code",
   "execution_count": 14,
   "metadata": {},
   "outputs": [
    {
     "name": "stdout",
     "output_type": "stream",
     "text": [
      "AppID                             0\n",
      "Name                              6\n",
      "Release date                      0\n",
      "Estimated owners                  0\n",
      "Peak CCU                          0\n",
      "Required age                      0\n",
      "Price                             0\n",
      "DLC count                         0\n",
      "About the game                 3567\n",
      "Supported languages               0\n",
      "Full audio languages              0\n",
      "Reviews                       75360\n",
      "Header image                      0\n",
      "Website                       45651\n",
      "Support url                   43511\n",
      "Support email                 13593\n",
      "Windows                           0\n",
      "Mac                               0\n",
      "Linux                             0\n",
      "Metacritic score                  0\n",
      "Metacritic url                81191\n",
      "User score                        0\n",
      "Positive                          0\n",
      "Negative                          0\n",
      "Score rank                    85059\n",
      "Achievements                      0\n",
      "Recommendations                   0\n",
      "Notes                         72082\n",
      "Average playtime forever          0\n",
      "Average playtime two weeks        0\n",
      "Median playtime forever           0\n",
      "Median playtime two weeks         0\n",
      "Developers                     3586\n",
      "Publishers                     3834\n",
      "Categories                     4598\n",
      "Genres                         3555\n",
      "Tags                          21100\n",
      "Screenshots                    2006\n",
      "Movies                         6453\n",
      "dtype: int64\n",
      "85103\n"
     ]
    }
   ],
   "source": [
    "print(steam_games.isna().sum())\n",
    "print(len(steam_games))"
   ]
  },
  {
   "cell_type": "code",
   "execution_count": 19,
   "metadata": {},
   "outputs": [
    {
     "name": "stdout",
     "output_type": "stream",
     "text": [
      "UserID        0\n",
      "Game Title    0\n",
      "Behavior      0\n",
      "Quantity      0\n",
      "dtype: int64\n",
      "200000\n"
     ]
    },
    {
     "data": {
      "text/html": [
       "<div>\n",
       "<style scoped>\n",
       "    .dataframe tbody tr th:only-of-type {\n",
       "        vertical-align: middle;\n",
       "    }\n",
       "\n",
       "    .dataframe tbody tr th {\n",
       "        vertical-align: top;\n",
       "    }\n",
       "\n",
       "    .dataframe thead th {\n",
       "        text-align: right;\n",
       "    }\n",
       "</style>\n",
       "<table border=\"1\" class=\"dataframe\">\n",
       "  <thead>\n",
       "    <tr style=\"text-align: right;\">\n",
       "      <th></th>\n",
       "      <th>UserID</th>\n",
       "      <th>Game Title</th>\n",
       "      <th>Behavior</th>\n",
       "      <th>Quantity</th>\n",
       "    </tr>\n",
       "  </thead>\n",
       "  <tbody>\n",
       "    <tr>\n",
       "      <th>0</th>\n",
       "      <td>151603712</td>\n",
       "      <td>The Elder Scrolls V Skyrim</td>\n",
       "      <td>purchase</td>\n",
       "      <td>1.0</td>\n",
       "    </tr>\n",
       "    <tr>\n",
       "      <th>1</th>\n",
       "      <td>151603712</td>\n",
       "      <td>The Elder Scrolls V Skyrim</td>\n",
       "      <td>play</td>\n",
       "      <td>273.0</td>\n",
       "    </tr>\n",
       "    <tr>\n",
       "      <th>2</th>\n",
       "      <td>151603712</td>\n",
       "      <td>Fallout 4</td>\n",
       "      <td>purchase</td>\n",
       "      <td>1.0</td>\n",
       "    </tr>\n",
       "    <tr>\n",
       "      <th>3</th>\n",
       "      <td>151603712</td>\n",
       "      <td>Fallout 4</td>\n",
       "      <td>play</td>\n",
       "      <td>87.0</td>\n",
       "    </tr>\n",
       "    <tr>\n",
       "      <th>4</th>\n",
       "      <td>151603712</td>\n",
       "      <td>Spore</td>\n",
       "      <td>purchase</td>\n",
       "      <td>1.0</td>\n",
       "    </tr>\n",
       "  </tbody>\n",
       "</table>\n",
       "</div>"
      ],
      "text/plain": [
       "      UserID                  Game Title  Behavior  Quantity\n",
       "0  151603712  The Elder Scrolls V Skyrim  purchase       1.0\n",
       "1  151603712  The Elder Scrolls V Skyrim      play     273.0\n",
       "2  151603712                   Fallout 4  purchase       1.0\n",
       "3  151603712                   Fallout 4      play      87.0\n",
       "4  151603712                       Spore  purchase       1.0"
      ]
     },
     "execution_count": 19,
     "metadata": {},
     "output_type": "execute_result"
    }
   ],
   "source": [
    "print(user_data.isna().sum())\n",
    "print(len(user_data))"
   ]
  },
  {
   "cell_type": "code",
   "execution_count": null,
   "metadata": {},
   "outputs": [],
   "source": []
  }
 ],
 "metadata": {
  "kernelspec": {
   "display_name": "Python 3",
   "language": "python",
   "name": "python3"
  },
  "language_info": {
   "codemirror_mode": {
    "name": "ipython",
    "version": 3
   },
   "file_extension": ".py",
   "mimetype": "text/x-python",
   "name": "python",
   "nbconvert_exporter": "python",
   "pygments_lexer": "ipython3",
   "version": "3.10.9"
  }
 },
 "nbformat": 4,
 "nbformat_minor": 2
}
