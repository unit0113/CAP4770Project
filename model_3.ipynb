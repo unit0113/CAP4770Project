{
 "cells": [
  {
   "cell_type": "markdown",
   "metadata": {},
   "source": [
    "Get Data"
   ]
  },
  {
   "cell_type": "code",
   "execution_count": 2,
   "metadata": {},
   "outputs": [],
   "source": [
    "import opendatasets as od \n",
    "import pandas as pd\n",
    "import numpy as np\n",
    "import os\n",
    "\n",
    "if not os.path.exists('steam-games-dataset'):\n",
    "    od.download( \n",
    "        \"https://www.kaggle.com/datasets/fronkongames/steam-games-dataset/data\") \n",
    "    \n",
    "if not os.path.exists('steam-video-games'):\n",
    "    od.download( \n",
    "        \"https://www.kaggle.com/datasets/tamber/steam-video-games/data\") \n",
    "    \n",
    "if not os.path.exists('popularity-of-games-on-steam'):\n",
    "    od.download( \n",
    "        \"https://www.kaggle.com/datasets/michau96/popularity-of-games-on-steam\") "
   ]
  },
  {
   "cell_type": "markdown",
   "metadata": {},
   "source": [
    "Load Data"
   ]
  },
  {
   "cell_type": "code",
   "execution_count": 3,
   "metadata": {},
   "outputs": [],
   "source": [
    "user_data = pd.read_csv('steam-video-games\\steam-200k.csv', encoding='ISO-8859-1', usecols=[0, 1, 2, 3], names=['UserID', 'Game', 'Behavior', 'Quantity'])\n",
    "# Note: Behvior is either purchase or play. When behavior is purchase, quantity is always 1. When behavior is play, quantity is the number of hours"
   ]
  },
  {
   "cell_type": "markdown",
   "metadata": {},
   "source": [
    "Find average hours played per game"
   ]
  },
  {
   "cell_type": "code",
   "execution_count": 4,
   "metadata": {},
   "outputs": [
    {
     "data": {
      "text/html": [
       "<div>\n",
       "<style scoped>\n",
       "    .dataframe tbody tr th:only-of-type {\n",
       "        vertical-align: middle;\n",
       "    }\n",
       "\n",
       "    .dataframe tbody tr th {\n",
       "        vertical-align: top;\n",
       "    }\n",
       "\n",
       "    .dataframe thead th {\n",
       "        text-align: right;\n",
       "    }\n",
       "</style>\n",
       "<table border=\"1\" class=\"dataframe\">\n",
       "  <thead>\n",
       "    <tr style=\"text-align: right;\">\n",
       "      <th></th>\n",
       "      <th>Quantity</th>\n",
       "    </tr>\n",
       "    <tr>\n",
       "      <th>Game</th>\n",
       "      <th></th>\n",
       "    </tr>\n",
       "  </thead>\n",
       "  <tbody>\n",
       "    <tr>\n",
       "      <th>Eastside Hockey Manager</th>\n",
       "      <td>1295.000000</td>\n",
       "    </tr>\n",
       "    <tr>\n",
       "      <th>Baldur's Gate II Enhanced Edition</th>\n",
       "      <td>475.255556</td>\n",
       "    </tr>\n",
       "    <tr>\n",
       "      <th>FIFA Manager 09</th>\n",
       "      <td>411.000000</td>\n",
       "    </tr>\n",
       "    <tr>\n",
       "      <th>Perpetuum</th>\n",
       "      <td>400.975000</td>\n",
       "    </tr>\n",
       "    <tr>\n",
       "      <th>Football Manager 2014</th>\n",
       "      <td>391.984615</td>\n",
       "    </tr>\n",
       "    <tr>\n",
       "      <th>Football Manager 2012</th>\n",
       "      <td>390.453165</td>\n",
       "    </tr>\n",
       "    <tr>\n",
       "      <th>Football Manager 2010</th>\n",
       "      <td>375.048571</td>\n",
       "    </tr>\n",
       "    <tr>\n",
       "      <th>Football Manager 2011</th>\n",
       "      <td>365.703226</td>\n",
       "    </tr>\n",
       "    <tr>\n",
       "      <th>Freaking Meatbags</th>\n",
       "      <td>331.000000</td>\n",
       "    </tr>\n",
       "    <tr>\n",
       "      <th>Out of the Park Baseball 16</th>\n",
       "      <td>330.400000</td>\n",
       "    </tr>\n",
       "    <tr>\n",
       "      <th>Football Manager 2015</th>\n",
       "      <td>315.364935</td>\n",
       "    </tr>\n",
       "    <tr>\n",
       "      <th>Football Manager 2013</th>\n",
       "      <td>310.659615</td>\n",
       "    </tr>\n",
       "    <tr>\n",
       "      <th>FINAL FANTASY XIV A Realm Reborn</th>\n",
       "      <td>300.840909</td>\n",
       "    </tr>\n",
       "    <tr>\n",
       "      <th>Worldwide Soccer Manager 2009</th>\n",
       "      <td>295.000000</td>\n",
       "    </tr>\n",
       "    <tr>\n",
       "      <th>X-Plane 10 Global - 64 Bit</th>\n",
       "      <td>268.025000</td>\n",
       "    </tr>\n",
       "    <tr>\n",
       "      <th>NOBUNAGA'S AMBITION Kakushin with Power Up Kit</th>\n",
       "      <td>267.000000</td>\n",
       "    </tr>\n",
       "    <tr>\n",
       "      <th>Counter-Strike</th>\n",
       "      <td>236.375176</td>\n",
       "    </tr>\n",
       "    <tr>\n",
       "      <th>Counter-Strike Global Offensive</th>\n",
       "      <td>234.402033</td>\n",
       "    </tr>\n",
       "    <tr>\n",
       "      <th>FIFA Manager 11</th>\n",
       "      <td>229.000000</td>\n",
       "    </tr>\n",
       "    <tr>\n",
       "      <th>MLB 2K10</th>\n",
       "      <td>228.000000</td>\n",
       "    </tr>\n",
       "  </tbody>\n",
       "</table>\n",
       "</div>"
      ],
      "text/plain": [
       "                                                   Quantity\n",
       "Game                                                       \n",
       "Eastside Hockey Manager                         1295.000000\n",
       "Baldur's Gate II Enhanced Edition                475.255556\n",
       "FIFA Manager 09                                  411.000000\n",
       "Perpetuum                                        400.975000\n",
       "Football Manager 2014                            391.984615\n",
       "Football Manager 2012                            390.453165\n",
       "Football Manager 2010                            375.048571\n",
       "Football Manager 2011                            365.703226\n",
       "Freaking Meatbags                                331.000000\n",
       "Out of the Park Baseball 16                      330.400000\n",
       "Football Manager 2015                            315.364935\n",
       "Football Manager 2013                            310.659615\n",
       "FINAL FANTASY XIV A Realm Reborn                 300.840909\n",
       "Worldwide Soccer Manager 2009                    295.000000\n",
       "X-Plane 10 Global - 64 Bit                       268.025000\n",
       "NOBUNAGA'S AMBITION Kakushin with Power Up Kit   267.000000\n",
       "Counter-Strike                                   236.375176\n",
       "Counter-Strike Global Offensive                  234.402033\n",
       "FIFA Manager 11                                  229.000000\n",
       "MLB 2K10                                         228.000000"
      ]
     },
     "execution_count": 4,
     "metadata": {},
     "output_type": "execute_result"
    }
   ],
   "source": [
    "hours_played = user_data[user_data['Behavior'] == 'play'].groupby('Game').agg(np.mean).sort_values(by='Quantity', ascending=False).drop('UserID', axis='columns')\n",
    "hours_played.head(20)"
   ]
  },
  {
   "cell_type": "markdown",
   "metadata": {},
   "source": [
    "Normalize play quantity"
   ]
  },
  {
   "cell_type": "code",
   "execution_count": 5,
   "metadata": {},
   "outputs": [
    {
     "data": {
      "text/html": [
       "<div>\n",
       "<style scoped>\n",
       "    .dataframe tbody tr th:only-of-type {\n",
       "        vertical-align: middle;\n",
       "    }\n",
       "\n",
       "    .dataframe tbody tr th {\n",
       "        vertical-align: top;\n",
       "    }\n",
       "\n",
       "    .dataframe thead th {\n",
       "        text-align: right;\n",
       "    }\n",
       "</style>\n",
       "<table border=\"1\" class=\"dataframe\">\n",
       "  <thead>\n",
       "    <tr style=\"text-align: right;\">\n",
       "      <th></th>\n",
       "      <th>UserID</th>\n",
       "      <th>Game</th>\n",
       "      <th>Behavior</th>\n",
       "      <th>Quantity</th>\n",
       "    </tr>\n",
       "  </thead>\n",
       "  <tbody>\n",
       "    <tr>\n",
       "      <th>0</th>\n",
       "      <td>151603712</td>\n",
       "      <td>The Elder Scrolls V Skyrim</td>\n",
       "      <td>purchase</td>\n",
       "      <td>1.000000</td>\n",
       "    </tr>\n",
       "    <tr>\n",
       "      <th>1</th>\n",
       "      <td>151603712</td>\n",
       "      <td>The Elder Scrolls V Skyrim</td>\n",
       "      <td>play</td>\n",
       "      <td>2.607178</td>\n",
       "    </tr>\n",
       "    <tr>\n",
       "      <th>2</th>\n",
       "      <td>151603712</td>\n",
       "      <td>Fallout 4</td>\n",
       "      <td>purchase</td>\n",
       "      <td>1.000000</td>\n",
       "    </tr>\n",
       "    <tr>\n",
       "      <th>3</th>\n",
       "      <td>151603712</td>\n",
       "      <td>Fallout 4</td>\n",
       "      <td>play</td>\n",
       "      <td>1.349928</td>\n",
       "    </tr>\n",
       "    <tr>\n",
       "      <th>4</th>\n",
       "      <td>151603712</td>\n",
       "      <td>Spore</td>\n",
       "      <td>purchase</td>\n",
       "      <td>1.000000</td>\n",
       "    </tr>\n",
       "    <tr>\n",
       "      <th>5</th>\n",
       "      <td>151603712</td>\n",
       "      <td>Spore</td>\n",
       "      <td>play</td>\n",
       "      <td>0.506387</td>\n",
       "    </tr>\n",
       "    <tr>\n",
       "      <th>6</th>\n",
       "      <td>151603712</td>\n",
       "      <td>Fallout New Vegas</td>\n",
       "      <td>purchase</td>\n",
       "      <td>1.000000</td>\n",
       "    </tr>\n",
       "    <tr>\n",
       "      <th>7</th>\n",
       "      <td>151603712</td>\n",
       "      <td>Fallout New Vegas</td>\n",
       "      <td>play</td>\n",
       "      <td>0.234121</td>\n",
       "    </tr>\n",
       "    <tr>\n",
       "      <th>8</th>\n",
       "      <td>151603712</td>\n",
       "      <td>Left 4 Dead 2</td>\n",
       "      <td>purchase</td>\n",
       "      <td>1.000000</td>\n",
       "    </tr>\n",
       "    <tr>\n",
       "      <th>9</th>\n",
       "      <td>151603712</td>\n",
       "      <td>Left 4 Dead 2</td>\n",
       "      <td>play</td>\n",
       "      <td>0.212190</td>\n",
       "    </tr>\n",
       "  </tbody>\n",
       "</table>\n",
       "</div>"
      ],
      "text/plain": [
       "      UserID                        Game  Behavior  Quantity\n",
       "0  151603712  The Elder Scrolls V Skyrim  purchase  1.000000\n",
       "1  151603712  The Elder Scrolls V Skyrim      play  2.607178\n",
       "2  151603712                   Fallout 4  purchase  1.000000\n",
       "3  151603712                   Fallout 4      play  1.349928\n",
       "4  151603712                       Spore  purchase  1.000000\n",
       "5  151603712                       Spore      play  0.506387\n",
       "6  151603712           Fallout New Vegas  purchase  1.000000\n",
       "7  151603712           Fallout New Vegas      play  0.234121\n",
       "8  151603712               Left 4 Dead 2  purchase  1.000000\n",
       "9  151603712               Left 4 Dead 2      play  0.212190"
      ]
     },
     "execution_count": 5,
     "metadata": {},
     "output_type": "execute_result"
    }
   ],
   "source": [
    "normalized_user_data = user_data.copy()[user_data['Game'].isin(hours_played.index)]\n",
    "normalized_user_data['Quantity'] = normalized_user_data.apply(lambda x: x['Quantity'] if x['Behavior'] == 'purchase' else x['Quantity'] / hours_played.loc[x['Game'], :]['Quantity'], axis=1)\n",
    "normalized_user_data.head(10)"
   ]
  },
  {
   "cell_type": "markdown",
   "metadata": {},
   "source": [
    "Combine rows"
   ]
  },
  {
   "cell_type": "code",
   "execution_count": 6,
   "metadata": {},
   "outputs": [
    {
     "data": {
      "text/html": [
       "<div>\n",
       "<style scoped>\n",
       "    .dataframe tbody tr th:only-of-type {\n",
       "        vertical-align: middle;\n",
       "    }\n",
       "\n",
       "    .dataframe tbody tr th {\n",
       "        vertical-align: top;\n",
       "    }\n",
       "\n",
       "    .dataframe thead th {\n",
       "        text-align: right;\n",
       "    }\n",
       "</style>\n",
       "<table border=\"1\" class=\"dataframe\">\n",
       "  <thead>\n",
       "    <tr style=\"text-align: right;\">\n",
       "      <th></th>\n",
       "      <th>Game</th>\n",
       "      <th>Quantity</th>\n",
       "    </tr>\n",
       "    <tr>\n",
       "      <th>UserID</th>\n",
       "      <th></th>\n",
       "      <th></th>\n",
       "    </tr>\n",
       "  </thead>\n",
       "  <tbody>\n",
       "    <tr>\n",
       "      <th>151603712</th>\n",
       "      <td>Alan Wake</td>\n",
       "      <td>1.000000</td>\n",
       "    </tr>\n",
       "    <tr>\n",
       "      <th>151603712</th>\n",
       "      <td>BioShock</td>\n",
       "      <td>1.065645</td>\n",
       "    </tr>\n",
       "    <tr>\n",
       "      <th>151603712</th>\n",
       "      <td>BioShock 2</td>\n",
       "      <td>1.000000</td>\n",
       "    </tr>\n",
       "    <tr>\n",
       "      <th>151603712</th>\n",
       "      <td>BioShock Infinite</td>\n",
       "      <td>1.074707</td>\n",
       "    </tr>\n",
       "    <tr>\n",
       "      <th>151603712</th>\n",
       "      <td>Dead Island Epidemic</td>\n",
       "      <td>1.239623</td>\n",
       "    </tr>\n",
       "    <tr>\n",
       "      <th>151603712</th>\n",
       "      <td>Dota 2</td>\n",
       "      <td>1.002466</td>\n",
       "    </tr>\n",
       "    <tr>\n",
       "      <th>151603712</th>\n",
       "      <td>Dragon Age Origins - Ultimate Edition</td>\n",
       "      <td>1.030049</td>\n",
       "    </tr>\n",
       "    <tr>\n",
       "      <th>151603712</th>\n",
       "      <td>Eldevin</td>\n",
       "      <td>1.021525</td>\n",
       "    </tr>\n",
       "    <tr>\n",
       "      <th>151603712</th>\n",
       "      <td>Fallen Earth</td>\n",
       "      <td>1.000000</td>\n",
       "    </tr>\n",
       "    <tr>\n",
       "      <th>151603712</th>\n",
       "      <td>Fallout 3 - Game of the Year Edition</td>\n",
       "      <td>1.040686</td>\n",
       "    </tr>\n",
       "    <tr>\n",
       "      <th>151603712</th>\n",
       "      <td>Fallout 4</td>\n",
       "      <td>2.349928</td>\n",
       "    </tr>\n",
       "    <tr>\n",
       "      <th>151603712</th>\n",
       "      <td>Fallout New Vegas</td>\n",
       "      <td>1.234121</td>\n",
       "    </tr>\n",
       "    <tr>\n",
       "      <th>151603712</th>\n",
       "      <td>Garry's Mod</td>\n",
       "      <td>1.001339</td>\n",
       "    </tr>\n",
       "    <tr>\n",
       "      <th>151603712</th>\n",
       "      <td>Grand Theft Auto Episodes from Liberty City</td>\n",
       "      <td>1.000000</td>\n",
       "    </tr>\n",
       "    <tr>\n",
       "      <th>151603712</th>\n",
       "      <td>Grand Theft Auto IV</td>\n",
       "      <td>1.028935</td>\n",
       "    </tr>\n",
       "    <tr>\n",
       "      <th>151603712</th>\n",
       "      <td>Hitman Absolution</td>\n",
       "      <td>1.000000</td>\n",
       "    </tr>\n",
       "    <tr>\n",
       "      <th>151603712</th>\n",
       "      <td>HuniePop</td>\n",
       "      <td>1.408261</td>\n",
       "    </tr>\n",
       "    <tr>\n",
       "      <th>151603712</th>\n",
       "      <td>Jazzpunk</td>\n",
       "      <td>1.050633</td>\n",
       "    </tr>\n",
       "    <tr>\n",
       "      <th>151603712</th>\n",
       "      <td>Left 4 Dead</td>\n",
       "      <td>1.077738</td>\n",
       "    </tr>\n",
       "    <tr>\n",
       "      <th>151603712</th>\n",
       "      <td>Left 4 Dead 2</td>\n",
       "      <td>1.212190</td>\n",
       "    </tr>\n",
       "    <tr>\n",
       "      <th>151603712</th>\n",
       "      <td>Marvel Heroes 2015</td>\n",
       "      <td>1.017237</td>\n",
       "    </tr>\n",
       "    <tr>\n",
       "      <th>151603712</th>\n",
       "      <td>Path of Exile</td>\n",
       "      <td>1.151891</td>\n",
       "    </tr>\n",
       "    <tr>\n",
       "      <th>151603712</th>\n",
       "      <td>Poly Bridge</td>\n",
       "      <td>2.393189</td>\n",
       "    </tr>\n",
       "    <tr>\n",
       "      <th>151603712</th>\n",
       "      <td>Realm of the Mad God</td>\n",
       "      <td>1.047281</td>\n",
       "    </tr>\n",
       "    <tr>\n",
       "      <th>151603712</th>\n",
       "      <td>Robocraft</td>\n",
       "      <td>1.017897</td>\n",
       "    </tr>\n",
       "    <tr>\n",
       "      <th>151603712</th>\n",
       "      <td>SEGA Genesis &amp; Mega Drive Classics</td>\n",
       "      <td>1.157399</td>\n",
       "    </tr>\n",
       "    <tr>\n",
       "      <th>151603712</th>\n",
       "      <td>Spore</td>\n",
       "      <td>1.506387</td>\n",
       "    </tr>\n",
       "    <tr>\n",
       "      <th>151603712</th>\n",
       "      <td>Team Fortress 2</td>\n",
       "      <td>1.037452</td>\n",
       "    </tr>\n",
       "    <tr>\n",
       "      <th>151603712</th>\n",
       "      <td>The Banner Saga</td>\n",
       "      <td>1.133456</td>\n",
       "    </tr>\n",
       "    <tr>\n",
       "      <th>151603712</th>\n",
       "      <td>The Elder Scrolls V Skyrim</td>\n",
       "      <td>3.607178</td>\n",
       "    </tr>\n",
       "    <tr>\n",
       "      <th>151603712</th>\n",
       "      <td>Tomb Raider</td>\n",
       "      <td>1.160161</td>\n",
       "    </tr>\n",
       "  </tbody>\n",
       "</table>\n",
       "</div>"
      ],
      "text/plain": [
       "                                                  Game  Quantity\n",
       "UserID                                                          \n",
       "151603712                                    Alan Wake  1.000000\n",
       "151603712                                     BioShock  1.065645\n",
       "151603712                                   BioShock 2  1.000000\n",
       "151603712                            BioShock Infinite  1.074707\n",
       "151603712                         Dead Island Epidemic  1.239623\n",
       "151603712                                       Dota 2  1.002466\n",
       "151603712        Dragon Age Origins - Ultimate Edition  1.030049\n",
       "151603712                                      Eldevin  1.021525\n",
       "151603712                                 Fallen Earth  1.000000\n",
       "151603712         Fallout 3 - Game of the Year Edition  1.040686\n",
       "151603712                                    Fallout 4  2.349928\n",
       "151603712                            Fallout New Vegas  1.234121\n",
       "151603712                                  Garry's Mod  1.001339\n",
       "151603712  Grand Theft Auto Episodes from Liberty City  1.000000\n",
       "151603712                          Grand Theft Auto IV  1.028935\n",
       "151603712                            Hitman Absolution  1.000000\n",
       "151603712                                     HuniePop  1.408261\n",
       "151603712                                     Jazzpunk  1.050633\n",
       "151603712                                  Left 4 Dead  1.077738\n",
       "151603712                                Left 4 Dead 2  1.212190\n",
       "151603712                           Marvel Heroes 2015  1.017237\n",
       "151603712                                Path of Exile  1.151891\n",
       "151603712                                  Poly Bridge  2.393189\n",
       "151603712                         Realm of the Mad God  1.047281\n",
       "151603712                                    Robocraft  1.017897\n",
       "151603712           SEGA Genesis & Mega Drive Classics  1.157399\n",
       "151603712                                        Spore  1.506387\n",
       "151603712                              Team Fortress 2  1.037452\n",
       "151603712                              The Banner Saga  1.133456\n",
       "151603712                   The Elder Scrolls V Skyrim  3.607178\n",
       "151603712                                  Tomb Raider  1.160161"
      ]
     },
     "execution_count": 6,
     "metadata": {},
     "output_type": "execute_result"
    }
   ],
   "source": [
    "grouped_users = normalized_user_data.groupby(['UserID', 'Game']).aggregate({'Quantity': 'sum'})\n",
    "grouped_users = grouped_users.reset_index(level='Game')\n",
    "grouped_users.loc[151603712]"
   ]
  },
  {
   "cell_type": "markdown",
   "metadata": {},
   "source": [
    "Pivot long to wide"
   ]
  },
  {
   "cell_type": "code",
   "execution_count": 7,
   "metadata": {},
   "outputs": [
    {
     "data": {
      "text/plain": [
       "(12369, 3600)"
      ]
     },
     "execution_count": 7,
     "metadata": {},
     "output_type": "execute_result"
    }
   ],
   "source": [
    "#pivoted_users = grouped_users.pivot(index='UserID', columns='Game', values='Quantity')\n",
    "pivoted_users = grouped_users.reset_index()\n",
    "pivoted_users = pivoted_users.set_index(['UserID', 'Game'])\n",
    "pivoted_users = pivoted_users.unstack(fill_value=0)\n",
    "pivoted_users.shape"
   ]
  },
  {
   "cell_type": "code",
   "execution_count": 23,
   "metadata": {},
   "outputs": [
    {
     "data": {
      "text/plain": [
       "          Game                                                      \n",
       "Quantity  007 Legends                                                   float64\n",
       "          0RBITALIS                                                     float64\n",
       "          1... 2... 3... KICK IT! (Drop That Beat Like an Ugly Baby)    float64\n",
       "          10 Second Ninja                                               float64\n",
       "          10,000,000                                                    float64\n",
       "                                                                         ...   \n",
       "          rymdkapsel                                                    float64\n",
       "          sZone-Online                                                  float64\n",
       "          the static speaks my name                                     float64\n",
       "          theHunter                                                     float64\n",
       "          theHunter Primal                                              float64\n",
       "Length: 3600, dtype: object"
      ]
     },
     "execution_count": 23,
     "metadata": {},
     "output_type": "execute_result"
    }
   ],
   "source": [
    "pivoted_users.dtypes"
   ]
  },
  {
   "cell_type": "markdown",
   "metadata": {},
   "source": [
    "Train test split"
   ]
  },
  {
   "cell_type": "code",
   "execution_count": 11,
   "metadata": {},
   "outputs": [],
   "source": [
    "data = pivoted_users.sample(frac=1)\n",
    "split_index = int(data.shape[0] * 0.8)\n",
    "train = data[:split_index]\n",
    "test = data[split_index:]"
   ]
  },
  {
   "cell_type": "markdown",
   "metadata": {},
   "source": [
    "PCA"
   ]
  },
  {
   "cell_type": "code",
   "execution_count": 24,
   "metadata": {},
   "outputs": [],
   "source": [
    "from sklearn.decomposition import PCA\n",
    "# Cross val\n",
    "var_ratio = []\n",
    "for n in range(20, 301, 20):    \n",
    "    pca_test = PCA(n_components=n).fit(train.values) #.values supresses warning about feature names\n",
    "    var_ratio.append(np.sum(pca_test.explained_variance_ratio_))"
   ]
  },
  {
   "cell_type": "markdown",
   "metadata": {},
   "source": [
    "Plot Variances"
   ]
  },
  {
   "cell_type": "code",
   "execution_count": 13,
   "metadata": {},
   "outputs": [],
   "source": [
    "from matplotlib import pyplot as plt\n",
    "%matplotlib inline"
   ]
  },
  {
   "cell_type": "code",
   "execution_count": 27,
   "metadata": {},
   "outputs": [
    {
     "data": {
      "text/plain": [
       "[<matplotlib.lines.Line2D at 0x1eb820a12a0>]"
      ]
     },
     "execution_count": 27,
     "metadata": {},
     "output_type": "execute_result"
    },
    {
     "data": {
      "image/png": "[encoded data removed]",
      "text/plain": [
       "<Figure size 432x288 with 1 Axes>"
      ]
     },
     "metadata": {
      "needs_background": "light"
     },
     "output_type": "display_data"
    }
   ],
   "source": [
    "plt.plot(range(20, 301, 20), var_ratio)"
   ]
  },
  {
   "cell_type": "code",
   "execution_count": 58,
   "metadata": {},
   "outputs": [
    {
     "data": {
      "text/plain": [
       "0.8108259137979048"
      ]
     },
     "execution_count": 58,
     "metadata": {},
     "output_type": "execute_result"
    }
   ],
   "source": [
    "pca = PCA(n_components=200)\n",
    "train_pca = pca.fit_transform(train.values)\n",
    "\n",
    "test_pca = pca.transform(test.values)\n",
    "\n",
    "np.sum(pca.explained_variance_ratio_)"
   ]
  },
  {
   "cell_type": "markdown",
   "metadata": {},
   "source": [
    "Nearest Neighbors"
   ]
  },
  {
   "cell_type": "code",
   "execution_count": 59,
   "metadata": {},
   "outputs": [],
   "source": [
    "from sklearn.neighbors import KDTree\n",
    "tree = KDTree(train_pca) "
   ]
  },
  {
   "cell_type": "code",
   "execution_count": 48,
   "metadata": {},
   "outputs": [
    {
     "data": {
      "text/plain": [
       "          Game                                \n",
       "Quantity  Unturned                                1.451604\n",
       "          007 Legends                             0.000000\n",
       "          Ravensword Shadowlands                  0.000000\n",
       "          Rayman Origins                          0.000000\n",
       "          Razor2 Hidden Skies                     0.000000\n",
       "          Reach for the Sun                       0.000000\n",
       "          Real Boxing                             0.000000\n",
       "          Real Horror Stories Ultimate Edition    0.000000\n",
       "          Real Warfare                            0.000000\n",
       "          Real World Racing                       0.000000\n",
       "Name: 188991147, dtype: float64"
      ]
     },
     "execution_count": 48,
     "metadata": {},
     "output_type": "execute_result"
    }
   ],
   "source": [
    "test.iloc[0].sort_values(ascending=False)[:10]"
   ]
  },
  {
   "cell_type": "code",
   "execution_count": 60,
   "metadata": {},
   "outputs": [
    {
     "data": {
      "text/plain": [
       "array([[2030, 7777, 4123, 4480, 7665, 8302, 2455, 3118, 2490, 2021]],\n",
       "      dtype=int64)"
      ]
     },
     "execution_count": 60,
     "metadata": {},
     "output_type": "execute_result"
    }
   ],
   "source": [
    "neighbors = tree.query(test_pca[:1], k=10, return_distance=False)\n",
    "neighbors"
   ]
  },
  {
   "cell_type": "code",
   "execution_count": 62,
   "metadata": {},
   "outputs": [
    {
     "name": "stdout",
     "output_type": "stream",
     "text": [
      "          Game                                \n",
      "Quantity  Unturned                                1.444963\n",
      "          007 Legends                             0.000000\n",
      "          Ravensword Shadowlands                  0.000000\n",
      "          Rayman Origins                          0.000000\n",
      "          Razor2 Hidden Skies                     0.000000\n",
      "          Reach for the Sun                       0.000000\n",
      "          Real Boxing                             0.000000\n",
      "          Real Horror Stories Ultimate Edition    0.000000\n",
      "          Real Warfare                            0.000000\n",
      "          Real World Racing                       0.000000\n",
      "Name: 236370333, dtype: float64\n",
      "          Game                                \n",
      "Quantity  Unturned                                1.438322\n",
      "          007 Legends                             0.000000\n",
      "          Ravensword Shadowlands                  0.000000\n",
      "          Rayman Origins                          0.000000\n",
      "          Razor2 Hidden Skies                     0.000000\n",
      "          Reach for the Sun                       0.000000\n",
      "          Real Boxing                             0.000000\n",
      "          Real Horror Stories Ultimate Edition    0.000000\n",
      "          Real Warfare                            0.000000\n",
      "          Real World Racing                       0.000000\n",
      "Name: 186697335, dtype: float64\n",
      "          Game                                \n",
      "Quantity  Unturned                                1.43168\n",
      "          007 Legends                             0.00000\n",
      "          Ravensword Shadowlands                  0.00000\n",
      "          Rayman Origins                          0.00000\n",
      "          Razor2 Hidden Skies                     0.00000\n",
      "          Reach for the Sun                       0.00000\n",
      "          Real Boxing                             0.00000\n",
      "          Real Horror Stories Ultimate Edition    0.00000\n",
      "          Real Warfare                            0.00000\n",
      "          Real World Racing                       0.00000\n",
      "Name: 208815172, dtype: float64\n",
      "          Game                                \n",
      "Quantity  Unturned                                1.471528\n",
      "          007 Legends                             0.000000\n",
      "          Ravensword Shadowlands                  0.000000\n",
      "          Rayman Origins                          0.000000\n",
      "          Razor2 Hidden Skies                     0.000000\n",
      "          Reach for the Sun                       0.000000\n",
      "          Real Boxing                             0.000000\n",
      "          Real Horror Stories Ultimate Edition    0.000000\n",
      "          Real Warfare                            0.000000\n",
      "          Real World Racing                       0.000000\n",
      "Name: 308309772, dtype: float64\n",
      "          Game                                \n",
      "Quantity  Unturned                                1.418398\n",
      "          007 Legends                             0.000000\n",
      "          Ravensword Shadowlands                  0.000000\n",
      "          Rayman Origins                          0.000000\n",
      "          Razor2 Hidden Skies                     0.000000\n",
      "          Reach for the Sun                       0.000000\n",
      "          Real Boxing                             0.000000\n",
      "          Real Horror Stories Ultimate Edition    0.000000\n",
      "          Real Warfare                            0.000000\n",
      "          Real World Racing                       0.000000\n",
      "Name: 132875638, dtype: float64\n",
      "          Game                                \n",
      "Quantity  Unturned                                1.411757\n",
      "          007 Legends                             0.000000\n",
      "          Ravensword Shadowlands                  0.000000\n",
      "          Rayman Origins                          0.000000\n",
      "          Razor2 Hidden Skies                     0.000000\n",
      "          Reach for the Sun                       0.000000\n",
      "          Real Boxing                             0.000000\n",
      "          Real Horror Stories Ultimate Edition    0.000000\n",
      "          Real Warfare                            0.000000\n",
      "          Real World Racing                       0.000000\n",
      "Name: 215492239, dtype: float64\n",
      "          Game                                \n",
      "Quantity  Unturned                                1.518016\n",
      "          007 Legends                             0.000000\n",
      "          Ravensword Shadowlands                  0.000000\n",
      "          Rayman Origins                          0.000000\n",
      "          Razor2 Hidden Skies                     0.000000\n",
      "          Reach for the Sun                       0.000000\n",
      "          Real Boxing                             0.000000\n",
      "          Real Horror Stories Ultimate Edition    0.000000\n",
      "          Real Warfare                            0.000000\n",
      "          Real World Racing                       0.000000\n",
      "Name: 253209919, dtype: float64\n",
      "          Game                                \n",
      "Quantity  Unturned                                1.371909\n",
      "          007 Legends                             0.000000\n",
      "          Ravensword Shadowlands                  0.000000\n",
      "          Rayman Origins                          0.000000\n",
      "          Razor2 Hidden Skies                     0.000000\n",
      "          Reach for the Sun                       0.000000\n",
      "          Real Boxing                             0.000000\n",
      "          Real Horror Stories Ultimate Edition    0.000000\n",
      "          Real Warfare                            0.000000\n",
      "          Real World Racing                       0.000000\n",
      "Name: 185395696, dtype: float64\n",
      "          Game                                \n",
      "Quantity  Unturned                                1.365268\n",
      "          007 Legends                             0.000000\n",
      "          Ravensword Shadowlands                  0.000000\n",
      "          Rayman Origins                          0.000000\n",
      "          Razor2 Hidden Skies                     0.000000\n",
      "          Reach for the Sun                       0.000000\n",
      "          Real Boxing                             0.000000\n",
      "          Real Horror Stories Ultimate Edition    0.000000\n",
      "          Real Warfare                            0.000000\n",
      "          Real World Racing                       0.000000\n",
      "Name: 194097479, dtype: float64\n",
      "          Game                                \n",
      "Quantity  Unturned                                1.53794\n",
      "          007 Legends                             0.00000\n",
      "          Ravensword Shadowlands                  0.00000\n",
      "          Rayman Origins                          0.00000\n",
      "          Razor2 Hidden Skies                     0.00000\n",
      "          Reach for the Sun                       0.00000\n",
      "          Real Boxing                             0.00000\n",
      "          Real Horror Stories Ultimate Edition    0.00000\n",
      "          Real Warfare                            0.00000\n",
      "          Real World Racing                       0.00000\n",
      "Name: 228033247, dtype: float64\n"
     ]
    }
   ],
   "source": [
    "for neighbor in neighbors[0]:\n",
    "    print(train.iloc[neighbor].sort_values(ascending=False)[:10])"
   ]
  },
  {
   "cell_type": "code",
   "execution_count": null,
   "metadata": {},
   "outputs": [],
   "source": []
  }
 ],
 "metadata": {
  "kernelspec": {
   "display_name": "Python 3",
   "language": "python",
   "name": "python3"
  },
  "language_info": {
   "codemirror_mode": {
    "name": "ipython",
    "version": 3
   },
   "file_extension": ".py",
   "mimetype": "text/x-python",
   "name": "python",
   "nbconvert_exporter": "python",
   "pygments_lexer": "ipython3",
   "version": "3.10.9"
  }
 },
 "nbformat": 4,
 "nbformat_minor": 2
}
